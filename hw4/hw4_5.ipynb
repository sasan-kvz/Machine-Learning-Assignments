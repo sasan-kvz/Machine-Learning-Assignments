{
 "cells": [
  {
   "cell_type": "code",
   "execution_count": 30,
   "id": "0cf7055e",
   "metadata": {},
   "outputs": [],
   "source": [
    "import numpy as np\n",
    "import math\n",
    "import pandas as pd\n",
    "import matplotlib.pyplot as plt\n",
    "import sklearn as skl\n",
    "from sklearn import metrics\n",
    "from sklearn.metrics import classification_report, confusion_matrix , accuracy_score\n",
    "from sklearn.datasets import load_breast_cancer \n",
    "from sklearn.svm import SVC \n",
    "from sklearn.model_selection import GridSearchCV\n",
    "from sklearn.model_selection import train_test_split\n",
    "from sklearn.preprocessing import StandardScaler\n"
   ]
  },
  {
   "cell_type": "code",
   "execution_count": 31,
   "id": "0be54d59",
   "metadata": {},
   "outputs": [
    {
     "data": {
      "text/html": [
       "<div>\n",
       "<style scoped>\n",
       "    .dataframe tbody tr th:only-of-type {\n",
       "        vertical-align: middle;\n",
       "    }\n",
       "\n",
       "    .dataframe tbody tr th {\n",
       "        vertical-align: top;\n",
       "    }\n",
       "\n",
       "    .dataframe thead th {\n",
       "        text-align: right;\n",
       "    }\n",
       "</style>\n",
       "<table border=\"1\" class=\"dataframe\">\n",
       "  <thead>\n",
       "    <tr style=\"text-align: right;\">\n",
       "      <th></th>\n",
       "      <th>Mean of the integrated profile</th>\n",
       "      <th>Standard deviation of the integrated profile</th>\n",
       "      <th>Excess kurtosis of the integrated profile</th>\n",
       "      <th>Skewness of the integrated profile</th>\n",
       "      <th>Mean of the DM-SNR curve</th>\n",
       "      <th>Standard deviation of the DM-SNR curve</th>\n",
       "      <th>Excess kurtosis of the DM-SNR curve</th>\n",
       "      <th>Skewness of the DM-SNR curve</th>\n",
       "      <th>target_class</th>\n",
       "    </tr>\n",
       "  </thead>\n",
       "  <tbody>\n",
       "    <tr>\n",
       "      <th>0</th>\n",
       "      <td>140.562500</td>\n",
       "      <td>55.683782</td>\n",
       "      <td>-0.234571</td>\n",
       "      <td>-0.699648</td>\n",
       "      <td>3.199833</td>\n",
       "      <td>19.110426</td>\n",
       "      <td>7.975532</td>\n",
       "      <td>74.242225</td>\n",
       "      <td>0</td>\n",
       "    </tr>\n",
       "    <tr>\n",
       "      <th>1</th>\n",
       "      <td>102.507812</td>\n",
       "      <td>58.882430</td>\n",
       "      <td>0.465318</td>\n",
       "      <td>-0.515088</td>\n",
       "      <td>1.677258</td>\n",
       "      <td>14.860146</td>\n",
       "      <td>10.576487</td>\n",
       "      <td>127.393580</td>\n",
       "      <td>0</td>\n",
       "    </tr>\n",
       "    <tr>\n",
       "      <th>2</th>\n",
       "      <td>103.015625</td>\n",
       "      <td>39.341649</td>\n",
       "      <td>0.323328</td>\n",
       "      <td>1.051164</td>\n",
       "      <td>3.121237</td>\n",
       "      <td>21.744669</td>\n",
       "      <td>7.735822</td>\n",
       "      <td>63.171909</td>\n",
       "      <td>0</td>\n",
       "    </tr>\n",
       "    <tr>\n",
       "      <th>3</th>\n",
       "      <td>136.750000</td>\n",
       "      <td>57.178449</td>\n",
       "      <td>-0.068415</td>\n",
       "      <td>-0.636238</td>\n",
       "      <td>3.642977</td>\n",
       "      <td>20.959280</td>\n",
       "      <td>6.896499</td>\n",
       "      <td>53.593661</td>\n",
       "      <td>0</td>\n",
       "    </tr>\n",
       "    <tr>\n",
       "      <th>4</th>\n",
       "      <td>88.726562</td>\n",
       "      <td>40.672225</td>\n",
       "      <td>0.600866</td>\n",
       "      <td>1.123492</td>\n",
       "      <td>1.178930</td>\n",
       "      <td>11.468720</td>\n",
       "      <td>14.269573</td>\n",
       "      <td>252.567306</td>\n",
       "      <td>0</td>\n",
       "    </tr>\n",
       "  </tbody>\n",
       "</table>\n",
       "</div>"
      ],
      "text/plain": [
       "    Mean of the integrated profile  \\\n",
       "0                       140.562500   \n",
       "1                       102.507812   \n",
       "2                       103.015625   \n",
       "3                       136.750000   \n",
       "4                        88.726562   \n",
       "\n",
       "    Standard deviation of the integrated profile  \\\n",
       "0                                      55.683782   \n",
       "1                                      58.882430   \n",
       "2                                      39.341649   \n",
       "3                                      57.178449   \n",
       "4                                      40.672225   \n",
       "\n",
       "    Excess kurtosis of the integrated profile  \\\n",
       "0                                   -0.234571   \n",
       "1                                    0.465318   \n",
       "2                                    0.323328   \n",
       "3                                   -0.068415   \n",
       "4                                    0.600866   \n",
       "\n",
       "    Skewness of the integrated profile   Mean of the DM-SNR curve  \\\n",
       "0                            -0.699648                   3.199833   \n",
       "1                            -0.515088                   1.677258   \n",
       "2                             1.051164                   3.121237   \n",
       "3                            -0.636238                   3.642977   \n",
       "4                             1.123492                   1.178930   \n",
       "\n",
       "    Standard deviation of the DM-SNR curve  \\\n",
       "0                                19.110426   \n",
       "1                                14.860146   \n",
       "2                                21.744669   \n",
       "3                                20.959280   \n",
       "4                                11.468720   \n",
       "\n",
       "    Excess kurtosis of the DM-SNR curve   Skewness of the DM-SNR curve  \\\n",
       "0                              7.975532                      74.242225   \n",
       "1                             10.576487                     127.393580   \n",
       "2                              7.735822                      63.171909   \n",
       "3                              6.896499                      53.593661   \n",
       "4                             14.269573                     252.567306   \n",
       "\n",
       "   target_class  \n",
       "0             0  \n",
       "1             0  \n",
       "2             0  \n",
       "3             0  \n",
       "4             0  "
      ]
     },
     "execution_count": 31,
     "metadata": {},
     "output_type": "execute_result"
    }
   ],
   "source": [
    "df = pd.read_csv(r\"C:\\Users\\sasankvz\\Desktop\\jp nb\\hw4/q5.csv\")\n",
    "df.head()\n"
   ]
  },
  {
   "cell_type": "code",
   "execution_count": 32,
   "id": "52fa06e1",
   "metadata": {},
   "outputs": [],
   "source": [
    "X=df.drop(columns=['target_class']).values\n",
    "X = StandardScaler().fit_transform(X)\n",
    "Y=df['target_class'].values\n",
    "X_train, X_test, y_train, y_test = train_test_split(X,Y,test_size = 0.30, random_state = 101) \n"
   ]
  },
  {
   "cell_type": "code",
   "execution_count": 36,
   "id": "608110b8",
   "metadata": {},
   "outputs": [
    {
     "name": "stdout",
     "output_type": "stream",
     "text": [
      "train C1 : 0.978448275862069\n",
      "test C1 : 0.9819366852886406\n",
      "train C100 : 0.9786877394636015\n",
      "test C100 : 0.9815642458100559\n",
      "train C1000 : 0.9786079182630907\n",
      "test C1000 : 0.9815642458100559\n"
     ]
    }
   ],
   "source": [
    "C_range = [1, 100, 1000]\n",
    "\n",
    "for i in C_range:\n",
    "    model = SVC(kernel=\"linear\" , C=i) \n",
    "    model.fit(X_train, y_train) \n",
    "    predictions_train = model.predict(X_train) \n",
    "    predictions_test = model.predict(X_test) \n",
    "    accuracy_train = accuracy_score(y_train, predictions_train)\n",
    "    accuracy_test = accuracy_score(y_test, predictions_test)\n",
    "    print(f'train C{i} : {accuracy_train}')\n",
    "    print(f'test C{i} : {accuracy_test}')\n"
   ]
  },
  {
   "cell_type": "code",
   "execution_count": 35,
   "id": "e96c266e",
   "metadata": {},
   "outputs": [
    {
     "name": "stdout",
     "output_type": "stream",
     "text": [
      "train C1 : 0.979007024265645\n",
      "test C1 : 0.9798882681564246\n",
      "train C100 : 0.9829980842911877\n",
      "test C100 : 0.9824953445065177\n",
      "train C1000 : 0.9857918263090677\n",
      "test C1000 : 0.9810055865921787\n"
     ]
    }
   ],
   "source": [
    "for i in C_range:\n",
    "    model = SVC(kernel=\"rbf\" , C=i) \n",
    "    model.fit(X_train, y_train) \n",
    "    predictions_train = model.predict(X_train) \n",
    "    predictions_test = model.predict(X_test) \n",
    "    accuracy_train = accuracy_score(y_train, predictions_train)\n",
    "    accuracy_test = accuracy_score(y_test, predictions_test)\n",
    "    print(f'train C{i} : {accuracy_train}')\n",
    "    print(f'test C{i} : {accuracy_test}')\n"
   ]
  },
  {
   "cell_type": "code",
   "execution_count": 27,
   "id": "49d17504",
   "metadata": {},
   "outputs": [
    {
     "name": "stdout",
     "output_type": "stream",
     "text": [
      "train C1 : 0.8706896551724138\n",
      "test C1 : 0.873929236499069\n",
      "train C100 : 0.8706896551724138\n",
      "test C100 : 0.8735567970204842\n"
     ]
    }
   ],
   "source": [
    "C_range2 = [1, 100]\n",
    "\n",
    "for i in C_range2:\n",
    "    model = SVC(kernel=\"sigmoid\" , C=i) \n",
    "    model.fit(X_train, y_train) \n",
    "    predictions_train = model.predict(X_train) \n",
    "    predictions_test = model.predict(X_test) \n",
    "    accuracy_train = accuracy_score(y_train, predictions_train)\n",
    "    accuracy_test = accuracy_score(y_test, predictions_test)\n",
    "    print(f'train C{i} : {accuracy_train}')\n",
    "    print(f'test C{i} : {accuracy_test}')\n"
   ]
  },
  {
   "cell_type": "code",
   "execution_count": 26,
   "id": "5967d1e3",
   "metadata": {},
   "outputs": [
    {
     "name": "stdout",
     "output_type": "stream",
     "text": [
      "train C1 : 0.9761334610472542\n",
      "test C1 : 0.9795158286778398\n",
      "train C100 : 0.9798052362707536\n",
      "test C100 : 0.9806331471135941\n"
     ]
    }
   ],
   "source": [
    "\n",
    "for i in C_range2:\n",
    "    model = SVC(kernel=\"poly\" , C=i) \n",
    "    model.fit(X_train, y_train) \n",
    "    predictions_train = model.predict(X_train) \n",
    "    predictions_test = model.predict(X_test) \n",
    "    accuracy_train = accuracy_score(y_train, predictions_train)\n",
    "    accuracy_test = accuracy_score(y_test, predictions_test)\n",
    "    print(f'train C{i} : {accuracy_train}')\n",
    "    print(f'test C{i} : {accuracy_test}')\n"
   ]
  },
  {
   "cell_type": "code",
   "execution_count": 38,
   "id": "50be7908",
   "metadata": {},
   "outputs": [
    {
     "name": "stdout",
     "output_type": "stream",
     "text": [
      "test  : 0.9824953445065177\n",
      "              precision    recall  f1-score   support\n",
      "\n",
      "           0       0.99      0.99      0.99      4899\n",
      "           1       0.94      0.86      0.90       471\n",
      "\n",
      "    accuracy                           0.98      5370\n",
      "   macro avg       0.96      0.93      0.94      5370\n",
      "weighted avg       0.98      0.98      0.98      5370\n",
      "\n"
     ]
    }
   ],
   "source": [
    "model = SVC(kernel=\"rbf\" , C=100) \n",
    "model.fit(X_train, y_train) \n",
    "predictions_test = model.predict(X_test) \n",
    "accuracy_test = accuracy_score(y_test, predictions_test)\n",
    "print(f'test  : {accuracy_test}')\n",
    "print(classification_report(y_test, predictions_test))"
   ]
  },
  {
   "cell_type": "code",
   "execution_count": null,
   "id": "9fb83233",
   "metadata": {},
   "outputs": [],
   "source": []
  }
 ],
 "metadata": {
  "kernelspec": {
   "display_name": "Python 3 (ipykernel)",
   "language": "python",
   "name": "python3"
  },
  "language_info": {
   "codemirror_mode": {
    "name": "ipython",
    "version": 3
   },
   "file_extension": ".py",
   "mimetype": "text/x-python",
   "name": "python",
   "nbconvert_exporter": "python",
   "pygments_lexer": "ipython3",
   "version": "3.9.6"
  }
 },
 "nbformat": 4,
 "nbformat_minor": 5
}
