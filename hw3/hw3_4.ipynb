{
 "cells": [
  {
   "cell_type": "code",
   "execution_count": 1,
   "id": "87c21b5d",
   "metadata": {},
   "outputs": [],
   "source": [
    "import numpy as np\n",
    "import math\n",
    "import pandas as pd\n",
    "import matplotlib.pyplot as plt\n",
    "import sklearn as skl\n",
    "from sklearn import metrics"
   ]
  },
  {
   "cell_type": "code",
   "execution_count": null,
   "id": "ea2944a3",
   "metadata": {},
   "outputs": [],
   "source": [
    "# 5d data\n",
    "np.random.seed(2022)\n",
    "n = 10000\n",
    "size = int(n*(n-1)*0.5)\n",
    "x = np.random.randn(n,5)\n",
    "d = np.zeros(size)\n",
    "ctr = 0\n",
    "for i in range(n):\n",
    "    for j  in range (i+1,n):\n",
    "        d[ctr] = np.sqrt(np.sum((x[i]-x[j])**2))\n",
    "        ctr+=1\n",
    "plt.hist(d,bins = 100)\n",
    "plt.show()      "
   ]
  },
  {
   "cell_type": "code",
   "execution_count": null,
   "id": "7f848e38",
   "metadata": {},
   "outputs": [],
   "source": [
    "# 100 d data\n",
    "np.random.seed(2022)\n",
    "n = 10000\n",
    "x = np.random.randn(n,100)\n",
    "\n",
    "size = int(n*(n-1)*0.5)\n",
    "d = np.zeros(size)\n",
    "\n",
    "ctr = 0\n",
    "for i in range(n):\n",
    "    for j  in range (i+1,n):\n",
    "        d[ctr] = np.sqrt(np.sum((x[i]-x[j])**2))\n",
    "        ctr+=1\n",
    "plt.hist(d,bins = 100)\n",
    "plt.show()      "
   ]
  },
  {
   "cell_type": "code",
   "execution_count": null,
   "id": "a229876f",
   "metadata": {},
   "outputs": [],
   "source": []
  }
 ],
 "metadata": {
  "kernelspec": {
   "display_name": "Python 3 (ipykernel)",
   "language": "python",
   "name": "python3"
  },
  "language_info": {
   "codemirror_mode": {
    "name": "ipython",
    "version": 3
   },
   "file_extension": ".py",
   "mimetype": "text/x-python",
   "name": "python",
   "nbconvert_exporter": "python",
   "pygments_lexer": "ipython3",
   "version": "3.9.6"
  }
 },
 "nbformat": 4,
 "nbformat_minor": 5
}
