{
 "cells": [
  {
   "cell_type": "code",
   "execution_count": 1,
   "metadata": {},
   "outputs": [],
   "source": [
    "import numpy as np\n",
    "import matplotlib.pyplot as plt"
   ]
  },
  {
   "cell_type": "code",
   "execution_count": 2,
   "metadata": {},
   "outputs": [],
   "source": [
    "x = np.array([[0,0],[1,-1],[1,1],[2,-2],[2,0],[2,2],[2.5,0],[3,-3],[3,0],[3,3]])\n",
    "t = np.array([1,1,1,1,-1,1,-1,1,-1,1])\n",
    "\n",
    "idx0 = t==-1\n",
    "idx1 = t==1"
   ]
  },
  {
   "cell_type": "code",
   "execution_count": 3,
   "metadata": {},
   "outputs": [],
   "source": [
    "##Finding Which elements of z_in is positive!\n",
    "def pos_finder(lst):\n",
    "    return [i for i,x in enumerate(lst) if x>0]\n",
    "\n",
    "## Calculating Separator Lines According to W,b\n",
    "def line_coordinates(W,bias): \n",
    "    x = np.linspace(-3,3,num = 1000)\n",
    "    y1 = -W[0,0]/W[0,1]*x + bias[0]/W[0,1]\n",
    "    y2 = -W[1,0]/W[1,1]*x + bias[0]/W[1,1]\n",
    "    return x,y1,y2\n",
    "\n",
    "def perceptron(X,t,W,b,n,niter,alpha = 0.1):\n",
    "\n",
    "    ##Output Layer\n",
    "    v = 0.5*np.ones(n)\n",
    "    b4 = 0.5*(n-2)\n",
    "\n",
    "    ##Initializing Network I/O \n",
    "    z_in = np.zeros((n,1))\n",
    "    z = np.zeros((n,1))\n",
    "    out = np.zeros(t.shape)\n",
    "\n",
    "    ##Loop Counters\n",
    "    ix = 0\n",
    "    ctr = 0\n",
    "    ##Main Part\n",
    "\n",
    "    while (ctr<niter):\n",
    "        for x in X:        ##Iterating On every Input\n",
    "            ix = ix%10\n",
    "            for i in range(n):\n",
    "                z_in[i] = np.dot(W[i],x.T) + b[i]\n",
    "                z[i] = 1 if z_in[i]>=0 else -1\n",
    "            \n",
    "\n",
    "            y_in = sum([z[q]*v[q] for q in range(n)]) + b4\n",
    "            y = 1 if y_in>=0 else -1\n",
    "            \n",
    "            if(t[ix]!=y):\n",
    "\n",
    "                if t[ix]==1:\n",
    "                    idx = np.argmin(abs(z_in))\n",
    "                    \n",
    "                    b[idx] = b[idx] + alpha * (1-z_in[idx])      #Updating Weights In Vectorized Form\n",
    "                    W[idx] = W[idx] + alpha * (1-z_in[idx]) * x\n",
    "                \n",
    "                if t[ix]==-1:\n",
    "                    ind = pos_finder(z_in)\n",
    "                    for k in ind:\n",
    "                        b[k] = b[k] + alpha * (-1-z_in[k])\n",
    "                        W[k] = W[k] + alpha * (-1-z_in[k])*x\n",
    "            out[ix] = y\n",
    "            ix+=1\n",
    "\n",
    "        ctr+=1\n",
    "\n",
    "    return (W,b,out)"
   ]
  },
  {
   "cell_type": "code",
   "execution_count": 4,
   "metadata": {},
   "outputs": [
    {
     "name": "stderr",
     "output_type": "stream",
     "text": [
      "No handles with labels found to put in legend.\n"
     ]
    },
    {
     "data": {
      "image/png": "[encoded data removed]",
      "text/plain": [
       "<Figure size 720x576 with 1 Axes>"
      ]
     },
     "metadata": {},
     "output_type": "display_data"
    }
   ],
   "source": [
    "##Number of Perceptrons\n",
    "n = 2\n",
    "niter = 10000\n",
    "np.random.seed(1)\n",
    "##Initial Random Weights and biases\n",
    "W0 =   np.random.rand(n,2)\n",
    "b0 = np.random.rand(n)\n",
    "\n",
    "W,b,output = perceptron+(x,t,W0,b0,n,niter)\n",
    "xx,y1,y2 = line_coordinates(W,b)\n",
    "\n",
    "plt.style.use('Solarize_Light2')\n",
    "plt.figure(figsize=(10, 8))\n",
    "plt.title(\"Separator Lines Using Madaline\")\n",
    "plt.xlabel(\"X axis\")\n",
    "plt.ylabel(\"Y axis\")\n",
    "#########################\n",
    "plt.scatter(x[idx0,0],x[idx0,1],color = \"blue\")\n",
    "plt.scatter(x[idx1,0],x[idx1,1],color = \"red\")\n",
    "plt.plot(xx,y1)\n",
    "plt.plot(xx,y2)\n",
    "\n",
    "\n",
    "plt.legend()\n",
    "plt.grid()\n",
    "plt.show()\n",
    "\n"
   ]
  },
  {
   "cell_type": "code",
   "execution_count": null,
   "metadata": {},
   "outputs": [],
   "source": []
  },
  {
   "cell_type": "code",
   "execution_count": null,
   "metadata": {},
   "outputs": [],
   "source": []
  }
 ],
 "metadata": {
  "interpreter": {
   "hash": "8407e6ecfe9092ae03cdbcf6e0c83b7e94d1ec535debe1e8fb533a00796cd28e"
  },
  "kernelspec": {
   "display_name": "Python 3 (ipykernel)",
   "language": "python",
   "name": "python3"
  },
  "language_info": {
   "codemirror_mode": {
    "name": "ipython",
    "version": 3
   },
   "file_extension": ".py",
   "mimetype": "text/x-python",
   "name": "python",
   "nbconvert_exporter": "python",
   "pygments_lexer": "ipython3",
   "version": "3.9.6"
  }
 },
 "nbformat": 4,
 "nbformat_minor": 2
}
